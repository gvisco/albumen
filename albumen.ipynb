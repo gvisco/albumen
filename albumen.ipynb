{
 "cells": [
  {
   "cell_type": "code",
   "execution_count": 1,
   "metadata": {},
   "outputs": [],
   "source": [
    "import pylast\n",
    "import configparser\n",
    "\n",
    "config = configparser.ConfigParser()\n",
    "config.read('config.ini')\n",
    "API_KEY = config['DEFAULT']['API_KEY']\n",
    "\n",
    "network = pylast.LastFMNetwork(api_key=API_KEY)\n",
    "\n",
    "\n"
   ]
  },
  {
   "cell_type": "code",
   "execution_count": 2,
   "metadata": {},
   "outputs": [
    {
     "name": "stdout",
     "output_type": "stream",
     "text": [
      "Mingus Ah Um (2433055) - https://lastfm-img2.akamaized.net/i/u/300x300/76e44ee61a5c455a915f65458151edc8.png\n",
      "Ah Um (903973) - https://lastfm-img2.akamaized.net/i/u/300x300/9b167ea304c740d3b693cd2e24927539.png\n",
      "Mingus Mingus Mingus Mingus Mingus (474058) - https://lastfm-img2.akamaized.net/i/u/300x300/17ea9e6cf87d4c04a622b5bf7ba241be.png\n",
      "The Black Saint and the Sinner Lady (721307) - https://lastfm-img2.akamaized.net/i/u/300x300/1bc10681bd024639b45806f4ca797f2c.png\n",
      "The Complete Atlantic Recordings 1956-1961 Disc 3 (110528) - https://lastfm-img2.akamaized.net/i/u/300x300/3d34c4a824bcf67218381318f5793b64.png\n"
     ]
    }
   ],
   "source": [
    "artist = network.get_artist(\"Charles Mingus\")\n",
    "top_albums = artist.get_top_albums(5)\n",
    "for album in [a.item for a in top_albums]:\n",
    "    print('%s (%s) - %s' % (album.get_title(), album.get_playcount(), album.get_cover_image()))"
   ]
  },
  {
   "cell_type": "code",
   "execution_count": null,
   "metadata": {},
   "outputs": [],
   "source": []
  }
 ],
 "metadata": {
  "kernelspec": {
   "display_name": "Python 3",
   "language": "python",
   "name": "python3"
  },
  "language_info": {
   "codemirror_mode": {
    "name": "ipython",
    "version": 3
   },
   "file_extension": ".py",
   "mimetype": "text/x-python",
   "name": "python",
   "nbconvert_exporter": "python",
   "pygments_lexer": "ipython3",
   "version": "3.6.5"
  }
 },
 "nbformat": 4,
 "nbformat_minor": 2
}
